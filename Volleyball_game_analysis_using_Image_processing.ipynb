{
  "nbformat": 4,
  "nbformat_minor": 0,
  "metadata": {
    "colab": {
      "provenance": [],
      "authorship_tag": "ABX9TyNfNeJbvgZ/XGOLnV7MYhDk",
      "include_colab_link": true
    },
    "kernelspec": {
      "name": "python3",
      "display_name": "Python 3"
    },
    "language_info": {
      "name": "python"
    }
  },
  "cells": [
    {
      "cell_type": "markdown",
      "metadata": {
        "id": "view-in-github",
        "colab_type": "text"
      },
      "source": [
        "<a href=\"https://colab.research.google.com/github/sheikhi-a/Animated-Visualization/blob/main/Volleyball_game_analysis_using_Image_processing.ipynb\" target=\"_parent\"><img src=\"https://colab.research.google.com/assets/colab-badge.svg\" alt=\"Open In Colab\"/></a>"
      ]
    },
    {
      "cell_type": "code",
      "source": [
        "!pip install opencv-python mediapipe numpy scikit-learn\n",
        "\n",
        "import cv2\n",
        "import mediapipe as mp\n",
        "import numpy as np\n",
        "from sklearn.ensemble import RandomForestClassifier\n",
        "from sklearn.model_selection import train_test_split\n",
        "\n",
        "def get_frame_at_second(video_path, specific_second):\n",
        "    cap = cv2.VideoCapture(video_path)\n",
        "    fps = int(cap.get(cv2.CAP_PROP_FPS))\n",
        "    frame_number = specific_second * fps\n",
        "    cap.set(cv2.CAP_PROP_POS_FRAMES, frame_number)\n",
        "    ret, frame = cap.read()\n",
        "    cap.release()\n",
        "    return frame if ret else None\n",
        "\n",
        "mp_pose = mp.solutions.pose\n",
        "pose = mp_pose.Pose()\n",
        "\n",
        "def detect_keypoints(frame):\n",
        "    rgb_frame = cv2.cvtColor(frame, cv2.COLOR_BGR2RGB)\n",
        "    results = pose.process(rgb_frame)\n",
        "    if results.pose_landmarks:\n",
        "        keypoints = [(lm.x, lm.y) for lm in results.pose_landmarks.landmark]\n",
        "        return keypoints\n",
        "    return None\n",
        "\n",
        "EXPECTED_NUM_KEYPOINTS = 33\n",
        "\n",
        "def compute_features(keypoints):\n",
        "    if not keypoints or len(keypoints) != EXPECTED_NUM_KEYPOINTS:\n",
        "        keypoints = keypoints[:EXPECTED_NUM_KEYPOINTS] + [(0, 0)] * (EXPECTED_NUM_KEYPOINTS - len(keypoints))\n",
        "    features = []\n",
        "    for i in range(EXPECTED_NUM_KEYPOINTS - 1):\n",
        "        for j in range(i + 1, EXPECTED_NUM_KEYPOINTS):\n",
        "            distance = np.linalg.norm(np.array(keypoints[i]) - np.array(keypoints[j]))\n",
        "            features.append(distance)\n",
        "    return features[:528]\n",
        "\n",
        "np.random.seed(42)\n",
        "dummy_data = np.random.rand(100, 528)\n",
        "dummy_labels = np.random.choice([\"Zone 2\", \"Zone 4\"], 100)\n",
        "\n",
        "X_train, X_test, y_train, y_test = train_test_split(dummy_data, dummy_labels, test_size=0.2, random_state=42)\n",
        "\n",
        "model = RandomForestClassifier(n_estimators=100, random_state=42)\n",
        "model.fit(X_train, y_train)\n",
        "\n",
        "def predict_next_spike_zone(video_path, specific_second):\n",
        "    frame = get_frame_at_second(video_path, specific_second)\n",
        "    if frame is None:\n",
        "        return \"Could not extract frame at the specified second.\"\n",
        "    keypoints = detect_keypoints(frame)\n",
        "    if not keypoints:\n",
        "        return \"Could not detect keypoints in the frame.\"\n",
        "    features = compute_features(keypoints)\n",
        "    if not features:\n",
        "        return \"Features could not be computed from keypoints.\"\n",
        "    prediction = model.predict([features])[0]\n",
        "    return f\"Predicted Zone for Next Spike: {prediction}\"\n",
        "\n",
        "video_path = \"/content/volmatch2.mp4\" # this is my video\n",
        "specific_second = 53 # this is my specific time\n",
        "\n",
        "result = predict_next_spike_zone(video_path, specific_second)\n",
        "print(result)\n"
      ],
      "metadata": {
        "id": "p9l3k-LozyZZ"
      },
      "execution_count": 57,
      "outputs": []
    },
    {
      "cell_type": "code",
      "source": [],
      "metadata": {
        "id": "GI9YxY-T8O2g"
      },
      "execution_count": null,
      "outputs": []
    }
  ]
}